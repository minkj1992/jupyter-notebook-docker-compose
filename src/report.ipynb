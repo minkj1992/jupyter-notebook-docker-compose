{
 "cells": [
  {
   "cell_type": "code",
   "execution_count": null,
   "id": "04afa670-7163-4776-b494-078667aaa630",
   "metadata": {
    "scrolled": true
   },
   "outputs": [],
   "source": [
    "!pip install grobid-client langchain openai faiss-cpu PyPDF2 tiktoken chromadb"
   ]
  },
  {
   "cell_type": "code",
   "execution_count": null,
   "id": "3535cacd-8ebc-4403-9a3d-4ac7bf58eb36",
   "metadata": {},
   "outputs": [],
   "source": [
    "import openai\n",
    "from langchain.document_loaders import DirectoryLoader\n",
    "from langchain.document_loaders import TextLoader\n",
    "from langchain.text_splitter import RecursiveCharacterTextSplitter, TextSplitter\n",
    "from langchain.docstore.document import Document\n",
    "from typing import Any, List, Optional, Type, Union\n",
    "from langchain.prompts.prompt import PromptTemplate\n",
    "from langchain.chat_models import ChatOpenAI\n",
    "from langchain.chains.summarize import load_summarize_chain\n",
    "from pprint import pprint"
   ]
  },
  {
   "cell_type": "code",
   "execution_count": null,
   "id": "079347ce-54cb-4fe9-b25f-9fd2485dc318",
   "metadata": {},
   "outputs": [],
   "source": [
    "loader = DirectoryLoader('./data', glob=\"**/*.txt\", loader_cls=TextLoader)"
   ]
  },
  {
   "cell_type": "code",
   "execution_count": null,
   "id": "2e66d822-5db3-47ce-adcb-3896394702ef",
   "metadata": {},
   "outputs": [],
   "source": [
    "raw_docs = loader.load()"
   ]
  },
  {
   "cell_type": "code",
   "execution_count": null,
   "id": "96a9e08c-0d38-422d-adcb-7e5077bdd63c",
   "metadata": {},
   "outputs": [],
   "source": [
    "async def split(docs:List[Document]):\n",
    "    text_splitter = RecursiveCharacterTextSplitter(chunk_size=1500, chunk_overlap=20, separators=[\"\\n\\n\", \"\\n\", \" \", \"\"])\n",
    "    return text_splitter.split_documents(docs)"
   ]
  },
  {
   "cell_type": "code",
   "execution_count": null,
   "id": "c5aaf9f2-84b1-416e-801b-64119c28ad04",
   "metadata": {},
   "outputs": [],
   "source": [
    "docs = await split(raw_docs)\n",
    "len(docs)"
   ]
  },
  {
   "cell_type": "code",
   "execution_count": null,
   "id": "e21ba429-51ed-418a-85e8-26f4d8dd6af3",
   "metadata": {},
   "outputs": [],
   "source": [
    "from langchain.vectorstores import FAISS\n",
    "\n",
    "embeddings = OpenAIEmbeddings()\n",
    "db = FAISS.from_documents(docs, embeddings)\n",
    "embeddings"
   ]
  },
  {
   "cell_type": "code",
   "execution_count": null,
   "id": "51008e07-b716-4d4a-9683-c4a2e76bf144",
   "metadata": {},
   "outputs": [],
   "source": [
    "query = '\b강현과 소연이 둘 사이에 일어났던 중요한 일들과 서로의 감정상태'\n",
    "d1 = db.similarity_search(query)\n",
    "d1"
   ]
  },
  {
   "cell_type": "code",
   "execution_count": null,
   "id": "209f5bc0-6a81-4815-af86-bff59ae2c81a",
   "metadata": {},
   "outputs": [],
   "source": [
    "d2 = db.similarity_search_with_score(query)\n",
    "d2"
   ]
  },
  {
   "cell_type": "code",
   "execution_count": null,
   "id": "fa7aee0a-fff1-44ab-8682-23443ee528af",
   "metadata": {},
   "outputs": [],
   "source": [
    "embedding_vector = embeddings.embed_query(query)\n",
    "d3 = db.similarity_search_by_vector(embedding_vector)\n",
    "d3"
   ]
  },
  {
   "cell_type": "code",
   "execution_count": null,
   "id": "3f54f04b-ba1e-4a8d-aabf-9f9bf0188218",
   "metadata": {},
   "outputs": [],
   "source": [
    "db.save_local('./data/faiss_kakao')"
   ]
  },
  {
   "cell_type": "code",
   "execution_count": null,
   "id": "26343bda-2f1b-4d1c-9526-fd91e4d6f73c",
   "metadata": {},
   "outputs": [],
   "source": [
    "new_db = FAISS.load_local(\"./data/faiss_kakao\", embeddings)\n",
    "d1 = db.similarity_search(query)\n",
    "d1"
   ]
  },
  {
   "cell_type": "code",
   "execution_count": null,
   "id": "8e4a99a8-b91d-407c-be00-5e1be9945368",
   "metadata": {},
   "outputs": [],
   "source": [
    "#'\b연인관계인 강현과 소연이의 둘 사이에 일어났던 주요 사건들과 시간에 따른 서로의 감정상태'\n",
    "topic = 'The major \bstory that happened between Kanghyeon and Soyeon, who are lovers.'\n",
    "\n",
    "summary_prompt_template = \"\"\"Summarize the chat conversation that is in the DOCS below, so that the content presented in the topic above is well represented.\n",
    "You must obtain and summarize the necessary data from DOCS so that the content written in topic can be well represented.\n",
    "\n",
    "The CONVERSATION CONTEXT format is 'year month day time, speaker: message'.    \n",
    "For example, in '2000, May 3, 3:00 AM, A: Hello', the conversation content is Hello. \n",
    "The content of the conversation is the most important.\n",
    "\n",
    "!IMPORTANT Even if you can't analyze it, guess based on your knowledge. answer unconditionally.\n",
    "\n",
    "DOCS: {docs}\n",
    "\n",
    "\"\"\"\n",
    "prefix_summary = f\"The topic is '{topic}'.\" \n",
    "suffix_summary = \"CONCISE SUMMARY IN 3000 WORDS IN ENGLISH:\"\n",
    "template = prefix_summary + summary_prompt_template + suffix_summary\n",
    "pprint(template)\n",
    "\n",
    "PROMPT = PromptTemplate(template=template, input_variables=[\"docs\"])\n",
    "\n",
    "llm = ChatOpenAI(\n",
    "        temperature=1,\n",
    "        verbose=True,\n",
    "        max_retries=3\n",
    ")\n",
    "retriever = db.as_retriever(search_kwargs={'k':10})\n",
    "docs = retriever.get_relevant_documents(topic)\n",
    "pprint(docs)"
   ]
  },
  {
   "cell_type": "code",
   "execution_count": null,
   "id": "ec024428-bfd1-4c93-b058-53a9abbe0412",
   "metadata": {
    "scrolled": true
   },
   "outputs": [],
   "source": [
    "chain = load_summarize_chain(\n",
    "        llm=llm, \n",
    "        chain_type=\"map_reduce\", # chain_type=refine\n",
    "        combine_document_variable_name=\"docs\",\n",
    "        map_reduce_document_variable_name=\"docs\",\n",
    "        map_prompt=PROMPT, \n",
    "        combine_prompt=PROMPT,\n",
    "        verbose=True,\n",
    ")\n",
    "summary = chain({\"input_documents\": docs}, return_only_outputs=True)\n",
    "summary"
   ]
  },
  {
   "cell_type": "code",
   "execution_count": null,
   "id": "28e76c6c-88e2-4da1-b2cd-f841bec782d0",
   "metadata": {},
   "outputs": [],
   "source": []
  }
 ],
 "metadata": {
  "kernelspec": {
   "display_name": "Python 3 (ipykernel)",
   "language": "python",
   "name": "python3"
  },
  "language_info": {
   "codemirror_mode": {
    "name": "ipython",
    "version": 3
   },
   "file_extension": ".py",
   "mimetype": "text/x-python",
   "name": "python",
   "nbconvert_exporter": "python",
   "pygments_lexer": "ipython3",
   "version": "3.10.11"
  }
 },
 "nbformat": 4,
 "nbformat_minor": 5
}
